{
 "cells": [
  {
   "cell_type": "code",
   "execution_count": 6,
   "id": "449a8e13",
   "metadata": {},
   "outputs": [],
   "source": [
    "import pandas, numpy, requests\n",
    "import warnings\n",
    "warnings.filterwarnings(\"ignore\")"
   ]
  },
  {
   "cell_type": "code",
   "execution_count": 7,
   "id": "65e0cbc6",
   "metadata": {},
   "outputs": [],
   "source": [
    "# Access token required to make any requests\n",
    "url = \"https://auth.emsicloud.com/connect/token\"\n",
    "payload = \"client_id=air&client_secret=e9bpmNV3&grant_type=client_credentials&scope=curricular_skills_prod:consumer\"\n",
    "token_header = {'content-type': 'application/x-www-form-urlencoded'}\n",
    "token_response = requests.request(\"POST\", url, data=payload, headers=token_header)\n",
    "token = token_response.json()['access_token']\n",
    "# Authorization header - token only good for 1 hour after retrieval\n",
    "header = {'Authorization': 'Bearer '+token}"
   ]
  },
  {
   "cell_type": "code",
   "execution_count": 8,
   "id": "572f0d75",
   "metadata": {},
   "outputs": [
    {
     "name": "stdout",
     "output_type": "stream",
     "text": [
      "{\"data\":{\"attributes\":{\"message\":\"Service is healthy.\",\"healthy\":true}}}\n"
     ]
    }
   ],
   "source": [
    "# Check Health of Service\n",
    "url = \"https://emsiservices.com/curricular-skills/status/\"\n",
    "health = requests.request(\"GET\", url, headers=header)\n",
    "print(health.text)"
   ]
  },
  {
   "cell_type": "code",
   "execution_count": 4,
   "id": "b89606cd",
   "metadata": {},
   "outputs": [],
   "source": [
    "# Entire skill taxonomy\n",
    "all_skills_url = \"https://emsiservices.com/curricular-skills/skills/\"\n",
    "all_skills = requests.request(\"GET\", url=all_skills_url, headers=header)\n",
    "skills = all_skills.json()\n",
    "skills = skills['data']\n",
    "sk = pandas.DataFrame(skills) # 31,719 unique skills\n",
    "#sk.type.value_counts() Specialized skill (28,948, 91%) Certification 2,365 (7%) Common Skill n=406 (1%)\n",
    "sk.to_excel('C:/WDEMP/EMSI/Curricular Skills API/EMSI_skills.xlsx')"
   ]
  },
  {
   "cell_type": "code",
   "execution_count": 21,
   "outputs": [],
   "source": [],
   "metadata": {
    "collapsed": false
   }
  },
  {
   "cell_type": "code",
   "execution_count": null,
   "outputs": [],
   "source": [],
   "metadata": {
    "collapsed": false
   }
  }
 ],
 "metadata": {
  "kernelspec": {
   "display_name": "Python 3 (ipykernel)",
   "language": "python",
   "name": "python3"
  },
  "language_info": {
   "codemirror_mode": {
    "name": "ipython",
    "version": 3
   },
   "file_extension": ".py",
   "mimetype": "text/x-python",
   "name": "python",
   "nbconvert_exporter": "python",
   "pygments_lexer": "ipython3",
   "version": "3.9.12"
  }
 },
 "nbformat": 4,
 "nbformat_minor": 5
}
